{
 "cells": [
  {
   "cell_type": "code",
   "execution_count": 2,
   "metadata": {},
   "outputs": [
    {
     "name": "stdout",
     "output_type": "stream",
     "text": [
      "Found 1229 images belonging to 2 classes.\n",
      "Found 306 images belonging to 2 classes.\n",
      "Epoch 1/10\n",
      "39/39 [==============================] - 294s 7s/step - loss: 0.2208 - accuracy: 0.9072 - val_loss: 0.0326 - val_accuracy: 0.9804\n",
      "Epoch 2/10\n",
      "39/39 [==============================] - 274s 7s/step - loss: 0.0392 - accuracy: 0.9902 - val_loss: 0.0062 - val_accuracy: 1.0000\n",
      "Epoch 3/10\n",
      "39/39 [==============================] - 273s 7s/step - loss: 0.0314 - accuracy: 0.9935 - val_loss: 0.0115 - val_accuracy: 1.0000\n",
      "Epoch 4/10\n",
      "39/39 [==============================] - 273s 7s/step - loss: 0.0417 - accuracy: 0.9910 - val_loss: 0.0101 - val_accuracy: 1.0000\n",
      "Epoch 5/10\n",
      "39/39 [==============================] - 275s 7s/step - loss: 0.0385 - accuracy: 0.9951 - val_loss: 0.0080 - val_accuracy: 1.0000\n",
      "Epoch 6/10\n",
      "39/39 [==============================] - 274s 7s/step - loss: 0.0244 - accuracy: 0.9943 - val_loss: 0.0018 - val_accuracy: 1.0000\n",
      "Epoch 7/10\n",
      "39/39 [==============================] - 274s 7s/step - loss: 0.0177 - accuracy: 0.9951 - val_loss: 1.9738e-04 - val_accuracy: 1.0000\n",
      "Epoch 8/10\n",
      "39/39 [==============================] - 274s 7s/step - loss: 0.0176 - accuracy: 0.9967 - val_loss: 9.6821e-04 - val_accuracy: 1.0000\n",
      "Epoch 9/10\n",
      "39/39 [==============================] - 273s 7s/step - loss: 0.0140 - accuracy: 0.9976 - val_loss: 3.3039e-04 - val_accuracy: 1.0000\n",
      "Epoch 10/10\n",
      "39/39 [==============================] - 274s 7s/step - loss: 0.0098 - accuracy: 0.9967 - val_loss: 4.6614e-04 - val_accuracy: 1.0000\n"
     ]
    },
    {
     "name": "stderr",
     "output_type": "stream",
     "text": [
      "e:\\dathu_sir_projects\\new_projects\\MHA-MEME-main\\sir\\lib\\site-packages\\keras\\src\\engine\\training.py:3000: UserWarning: You are saving your model as an HDF5 file via `model.save()`. This file format is considered legacy. We recommend using instead the native Keras format, e.g. `model.save('my_model.keras')`.\n",
      "  saving_api.save_model(\n"
     ]
    }
   ],
   "source": [
    "import tensorflow as tf\n",
    "from tensorflow.keras.models import Sequential\n",
    "from tensorflow.keras.layers import Conv2D, MaxPooling2D, Flatten, Dense, Dropout\n",
    "from tensorflow.keras.preprocessing.image import ImageDataGenerator\n",
    "\n",
    "# Define image dimensions\n",
    "img_width, img_height = 150, 150\n",
    "\n",
    "# Path to your dataset\n",
    "train_data_dir = 'wheat_dataset/'\n",
    "\n",
    "# Data Preprocessing using ImageDataGenerator\n",
    "train_datagen = ImageDataGenerator(rescale=1.0/255.0, validation_split=0.2)\n",
    "\n",
    "train_generator = train_datagen.flow_from_directory(\n",
    "    train_data_dir,\n",
    "    target_size=(img_width, img_height),\n",
    "    batch_size=32,\n",
    "    class_mode='binary',  # For 2 categories, we use 'binary'\n",
    "    subset='training'\n",
    ")\n",
    "\n",
    "validation_generator = train_datagen.flow_from_directory(\n",
    "    train_data_dir,\n",
    "    target_size=(img_width, img_height),\n",
    "    batch_size=32,\n",
    "    class_mode='binary',  # For 2 categories, we use 'binary'\n",
    "    subset='validation'\n",
    ")\n",
    "\n",
    "# Define CNN Model\n",
    "model = Sequential()\n",
    "\n",
    "# Convolution and Pooling layers\n",
    "model.add(Conv2D(32, (3, 3), input_shape=(img_width, img_height, 3), activation='relu'))\n",
    "model.add(MaxPooling2D(pool_size=(2, 2)))\n",
    "\n",
    "model.add(Conv2D(64, (3, 3), activation='relu'))\n",
    "model.add(MaxPooling2D(pool_size=(2, 2)))\n",
    "\n",
    "model.add(Conv2D(128, (3, 3), activation='relu'))\n",
    "model.add(MaxPooling2D(pool_size=(2, 2)))\n",
    "\n",
    "# Flattening\n",
    "model.add(Flatten())\n",
    "\n",
    "# Fully connected layers\n",
    "model.add(Dense(128, activation='relu'))\n",
    "model.add(Dropout(0.5))\n",
    "model.add(Dense(1, activation='sigmoid'))  # Output for binary classification\n",
    "\n",
    "# Compile the model\n",
    "model.compile(optimizer='adam', loss='binary_crossentropy', metrics=['accuracy'])\n",
    "\n",
    "# Train the model\n",
    "model.fit(train_generator, epochs=10, validation_data=validation_generator)\n",
    "\n",
    "# Save the model\n",
    "model.save('wheat_disease_binary_cnn_model.h5')\n"
   ]
  },
  {
   "cell_type": "code",
   "execution_count": null,
   "metadata": {},
   "outputs": [],
   "source": []
  }
 ],
 "metadata": {
  "kernelspec": {
   "display_name": "sir",
   "language": "python",
   "name": "python3"
  },
  "language_info": {
   "codemirror_mode": {
    "name": "ipython",
    "version": 3
   },
   "file_extension": ".py",
   "mimetype": "text/x-python",
   "name": "python",
   "nbconvert_exporter": "python",
   "pygments_lexer": "ipython3",
   "version": "3.8.0"
  }
 },
 "nbformat": 4,
 "nbformat_minor": 2
}
